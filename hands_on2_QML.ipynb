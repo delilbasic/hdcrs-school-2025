{
  "cells": [
    {
      "cell_type": "markdown",
      "metadata": {
        "id": "wZXZF1R_NFOY"
      },
      "source": [
        "# Quantum Machine Learning for Satellite Data Analysis with Qiskit\n",
        "\n",
        "HDCRS School, Day 2, Hands-on 2"
      ]
    },
    {
      "cell_type": "markdown",
      "metadata": {
        "id": "43gfghVB9ZNG"
      },
      "source": [
        "## Setting up the environment\n"
      ]
    },
    {
      "cell_type": "code",
      "execution_count": null,
      "metadata": {
        "colab": {
          "base_uri": "https://localhost:8080/"
        },
        "id": "sJtySJTONgJN",
        "outputId": "54f55f04-af84-44c8-dc84-f50441089b3a"
      },
      "outputs": [],
      "source": [
        "github_repo_url = 'https://github.com/delilbasic/hdcrs-school-2025.git'\n",
        "!git clone {github_repo_url}\n",
        "\n",
        "import os\n",
        "\n",
        "repo_folder_name = 'hdcrs-school-2025'\n",
        "os.chdir(repo_folder_name)\n",
        "\n",
        "!git clone https://github.com/alessandrosebastianelli/qml4eo_tutorial_qiskit.git\n",
        "!bash install_requirements.sh"
      ]
    },
    {
      "cell_type": "code",
      "execution_count": null,
      "metadata": {},
      "outputs": [],
      "source": [
        "\n",
        "!git clone https://github.com/alessandrosebastianelli/qml4eo_tutorial_qiskit.git\n",
        "!bash install_requirements.sh"
      ]
    },
    {
      "cell_type": "markdown",
      "metadata": {
        "id": "oWfzrbnt895u"
      },
      "source": [
        "## Importing libraries"
      ]
    },
    {
      "cell_type": "code",
      "execution_count": null,
      "metadata": {
        "id": "Ye0tfLlS87Jp"
      },
      "outputs": [],
      "source": [
        "import matplotlib.pyplot as plt\n",
        "import numpy as np\n",
        "import pandas as pd\n",
        "import json\n",
        "from sklearn.decomposition import PCA\n",
        "from sklearn.model_selection import train_test_split\n",
        "from sklearn.svm import SVC\n",
        "from sklearn.preprocessing import minmax_scale\n",
        "from qiskit import QuantumCircuit\n",
        "from qiskit.circuit import ParameterVector\n",
        "import qiskit_ibm_runtime\n",
        "from qiskit.transpiler.preset_passmanagers import generate_preset_pass_manager\n",
        "from pytorch_lightning.callbacks import ModelCheckpoint\n",
        "import matplotlib.pyplot as plt\n",
        "import pytorch_lightning as pl\n",
        "import numpy as np"
      ]
    },
    {
      "cell_type": "code",
      "execution_count": null,
      "metadata": {
        "colab": {
          "base_uri": "https://localhost:8080/"
        },
        "collapsed": true,
        "id": "TH6O7FripO-0",
        "outputId": "425245c4-8cae-44fd-ef2d-0fb02b49987c"
      },
      "outputs": [],
      "source": [
        "!pip list | grep \"qiskit\""
      ]
    },
    {
      "cell_type": "markdown",
      "metadata": {
        "id": "x1PzjNeHJ4hh"
      },
      "source": [
        "# Quantum Kernel Machine Learning\n",
        "\n",
        "The general task of machine learning is to find and study patterns in data. For many datasets, the datapoints are better understood in a higher dimensional feature space. This is the fundamental principle behind a series of machine learning algorithms known as *kernel methods*.\n",
        "\n",
        "In this section, you will learn how to define quantum kernels using `qiskit-machine-learning`."
      ]
    },
    {
      "cell_type": "markdown",
      "metadata": {
        "id": "sc8JOLkgJ4hl"
      },
      "source": [
        "## 1. Introduction\n",
        "\n",
        "Kernel methods are a collection of pattern analysis algorithms that use kernel functions to operate in a high-dimensional feature space. The best-known application of kernel methods is in **Support Vector Machines (SVMs)**, supervised learning algorithms commonly used for classification tasks. The main goal of SVMs is to find decision boundaries to separate a given set of data points into classes. When these data spaces are not linearly separable, SVMs can benefit from the use of kernels to find these boundaries.\n",
        "\n",
        "Formally, decision boundaries are hyperplanes in a high dimensional space. The kernel function implicitly maps input data into this higher dimensional space, where it can be easier to solve the initial problem. In other words, kernels may allow data distributions that were originally non-linearly separable to become a linearly separable problem. This is an effect known as the \"kernel trick\".\n",
        "\n",
        "There are use-cases for kernel-based unsupervised algorithms too, for example, in the context of clustering. **Spectral Clustering** is a technique where data points are treated as nodes of a graph, and the clustering task is viewed as a graph partitioning problem where nodes are mapped to a space where they can be easily segregated to form clusters.\n",
        "\n",
        "Mathematically, kernel functions follow:\n",
        "\n",
        "$k(\\vec{x}_i, \\vec{x}_j) = \\langle f(\\vec{x}_i), f(\\vec{x}_j) \\rangle$\n",
        "\n",
        "where\n",
        "* $k$ is the kernel function\n",
        "* $\\vec{x}_i, \\vec{x}_j$ are $n$ dimensional inputs\n",
        "* $f$ is a map from $n$-dimension to $m$-dimension space and\n",
        "* $\\langle a,b \\rangle$ denotes the inner product\n",
        "\n",
        "When considering finite data, a kernel function can be represented as a matrix:\n",
        "\n",
        "$K_{ij} = k(\\vec{x}_i,\\vec{x}_j)$.\n",
        "\n",
        "The main idea behind quantum kernel machine learning is to leverage quantum feature maps to perform the kernel trick. In this case, the quantum kernel is created by mapping a classical feature vector $\\vec{x}$ to a Hilbert space using a quantum feature map $\\phi(\\vec{x})$. Mathematically:\n",
        "\n",
        "$K_{ij} = \\left| \\langle \\phi(\\vec{x}_i)| \\phi(\\vec{x}_j) \\rangle \\right|^{2}$\n",
        "\n",
        "where\n",
        "* $K_{ij}$ is the kernel matrix\n",
        "* $\\vec{x}_i, \\vec{x}_j$ are $n$ dimensional inputs\n",
        "* $\\phi(\\vec{x})$ is the quantum feature map\n",
        "* $\\left| \\langle a|b \\rangle \\right|^{2}$ denotes the overlap of two quantum states $a$ and $b$\n",
        "\n",
        "Quantum kernels can be plugged into common classical kernel learning algorithms such as SVMs or clustering algorithms. They can also be leveraged in new quantum kernel methods like [QSVC](https://qiskit-community.github.io/qiskit-machine-learning/stubs/qiskit_machine_learning.algorithms.QSVC.html) class  provided by `qiskit-machine-learning`."
      ]
    },
    {
      "cell_type": "markdown",
      "metadata": {
        "id": "fXOL0i-iJ4ho"
      },
      "source": [
        "## 2. Classification\n",
        "\n",
        "This section illustrates a quantum kernel classification workflow using `qiskit-machine-learning`."
      ]
    },
    {
      "cell_type": "markdown",
      "metadata": {
        "id": "c1P2B73pJ4ho"
      },
      "source": [
        "### 2.1. Defining the dataset"
      ]
    },
    {
      "cell_type": "markdown",
      "metadata": {
        "id": "jkOP4NdPJ4ho"
      },
      "source": [
        "For this example, we will use a cloud detection dataset, taking labeled pixels from the following image:"
      ]
    },
    {
      "cell_type": "code",
      "execution_count": null,
      "metadata": {
        "colab": {
          "base_uri": "https://localhost:8080/",
          "height": 452
        },
        "id": "3uOrqSmt7_Kt",
        "outputId": "8c2ff7e1-d65c-4172-d4d7-8599293cdf0d"
      },
      "outputs": [],
      "source": [
        "# Load and show image\n",
        "clouds = plt.imread(\"clouds.png\")\n",
        "plt.imshow(clouds)"
      ]
    },
    {
      "cell_type": "markdown",
      "metadata": {},
      "source": [
        "We selected 100 labeled pixels for training and testing. They are in `clouds.json`."
      ]
    },
    {
      "cell_type": "code",
      "execution_count": null,
      "metadata": {},
      "outputs": [],
      "source": [
        "with open('clouds.json', 'r') as f:\n",
        "    clouds_data = json.load(f)\n",
        "x_full = np.array(clouds_data['x'])\n",
        "y = np.array(clouds_data['y'])\n",
        "print(x_full.shape, y.shape)"
      ]
    },
    {
      "cell_type": "markdown",
      "metadata": {
        "id": "QlEwNJx5lnwx"
      },
      "source": [
        "**How do we visualize a 4-dimensional dataset?**"
      ]
    },
    {
      "cell_type": "code",
      "execution_count": null,
      "metadata": {
        "id": "8SetljJy8xFI"
      },
      "outputs": [],
      "source": [
        "pca = PCA(n_components=2)\n",
        "x = pca.fit_transform(x_full)"
      ]
    },
    {
      "cell_type": "markdown",
      "metadata": {
        "id": "7-2hhH-KJ4hp"
      },
      "source": [
        "We have measurements for four wavelengths: blue (450-515 nm), green (520-600 nm), red (630-680 nm) and NIR (845-885 nm) with labels '0' (no-clouds) and '1' (clouds).\n",
        "\n",
        "We need to scale the features to $[0, 2\\pi]$ so that we can encode them as rotation gates.\n",
        "We also create the train-test splits."
      ]
    },
    {
      "cell_type": "code",
      "execution_count": null,
      "metadata": {
        "id": "o94ctZ8wlkEx"
      },
      "outputs": [],
      "source": [
        "x = minmax_scale(x, (0,np.pi))\n",
        "x_train, x_test, y_train, y_test = train_test_split(x,y,test_size=0.2)"
      ]
    },
    {
      "cell_type": "markdown",
      "metadata": {
        "id": "Xb3iosfklyZ5"
      },
      "source": [
        "Let's plot it now:"
      ]
    },
    {
      "cell_type": "code",
      "execution_count": null,
      "metadata": {
        "colab": {
          "base_uri": "https://localhost:8080/",
          "height": 774
        },
        "id": "Xd1FB1QwJ4hp",
        "outputId": "1e9af121-254a-45e4-995b-207b92c2e52b"
      },
      "outputs": [],
      "source": [
        "plt.scatter(*(x_train[y_train==-1].T), color='red', marker='o', label='x_train, class -1')\n",
        "plt.scatter(*(x_train[y_train==1].T), color='blue', marker='o', label='x_train, class 1')\n",
        "plt.scatter(*(x_test[y_test==-1].T), color='red', marker='x', label='x_test, class -1')\n",
        "plt.scatter(*(x_test[y_test==1].T), color='blue', marker='x', label='x_test, class 1')\n",
        "plt.legend()\n",
        "plt.ylabel('x0')\n",
        "plt.xlabel('x1')\n",
        "plt.title('Train-test split')"
      ]
    },
    {
      "cell_type": "markdown",
      "metadata": {
        "id": "dCYhlHiLJ4hq"
      },
      "source": [
        "### 2.2. Defining the quantum kernel\n",
        "\n",
        "The next step is to create a quantum kernel instance that will help classify this data.\n",
        "\n",
        "We use the [FidelityQuantumKernel](https://qiskit-community.github.io/qiskit-machine-learning/stubs/qiskit_machine_learning.kernels.FidelityQuantumKernel.html) class, and pass a `feature_map`: in this case, a two-qubit [ZZFeatureMap](https://docs.quantum.ibm.com/api/qiskit/qiskit.circuit.library.ZZFeatureMap).\n"
      ]
    },
    {
      "cell_type": "code",
      "execution_count": null,
      "metadata": {
        "id": "185iLtPrJ4hq"
      },
      "outputs": [],
      "source": [
        "from qiskit.circuit.library import ZZFeatureMap, RealAmplitudes\n",
        "from qiskit_machine_learning.kernels import FidelityQuantumKernel\n",
        "from qiskit.circuit import ParameterVector\n",
        "\n",
        "clouds_feature_map = ZZFeatureMap(feature_dimension=x_train.shape[1], reps=2, entanglement=\"linear\")\n",
        "\n",
        "clouds_kernel = FidelityQuantumKernel(feature_map=clouds_feature_map)\n",
        "\n",
        "# To draw the full circuit with all gates, use the 'mpl' or 'text' drawer:\n",
        "clouds_feature_map.decompose().draw('mpl')"
      ]
    },
    {
      "cell_type": "markdown",
      "metadata": {
        "id": "K4FLoylmJ4hq"
      },
      "source": [
        "### 2.3. Classification with SVC\n",
        "The quantum kernel can now be plugged into classical kernel methods, such as the [SVC](https://scikit-learn.org/stable/modules/svm.html) algorithm from `scikit-learn`. This algorithm allows us to define a [custom kernel](https://scikit-learn.org/stable/modules/svm.html#custom-kernels) in two ways:\n",
        "\n",
        "1. by providing the kernel as a **callable function**\n",
        "2. by precomputing the **kernel matrix**"
      ]
    },
    {
      "cell_type": "markdown",
      "metadata": {
        "id": "9oq6Bw3kJ4hr"
      },
      "source": [
        "#### Kernel as a callable function\n",
        "\n",
        "We define a SVC model and directly pass the `evaluate` function of the quantum kernel as a callable. Once the model is created, we train it by calling the `fit` method on the training dataset and evaluate the model for accuracy with `score`."
      ]
    },
    {
      "cell_type": "code",
      "execution_count": null,
      "metadata": {
        "id": "buKGgfK3J4hr",
        "outputId": "d21202b2-e17f-49b3-e40b-00cfca059f1f"
      },
      "outputs": [],
      "source": [
        "from sklearn.svm import SVC\n",
        "\n",
        "clouds_svc = SVC(kernel=clouds_kernel.evaluate)\n",
        "\n",
        "\n",
        "clouds_svc.fit(x_train, y_train)\n",
        "\n",
        "clouds_score_callable_function = clouds_svc.score(x_test, y_test)\n",
        "\n",
        "print(f\"Callable kernel classification test score: {clouds_score_callable_function}\")"
      ]
    },
    {
      "cell_type": "markdown",
      "metadata": {
        "id": "EKy_x3OwJ4hr"
      },
      "source": [
        "#### Precomputed kernel matrix\n",
        "\n",
        "Instead of passing a function of the quantum kernel as a callable, we can also precompute training and testing kernel matrices before passing them to the `scikit-learn` `SVC` algorithm.\n",
        "\n",
        "To extract the train and test matrices, we can call `evaluate` on the previously defined kernel and visualize them graphically as follows:"
      ]
    },
    {
      "cell_type": "code",
      "execution_count": null,
      "metadata": {
        "id": "23Wlb2lsJ4hr",
        "outputId": "c7735ef2-7638-4022-8371-9d55fe753108",
        "scrolled": false
      },
      "outputs": [],
      "source": [
        "clouds_matrix_train = clouds_kernel.evaluate(x_vec=x_train)\n",
        "clouds_matrix_test = clouds_kernel.evaluate(x_vec=x_train, y_vec=x_test)\n",
        "\n",
        "fig, axs = plt.subplots(1, 2, figsize=(10, 5))\n",
        "\n",
        "axs[0].imshow(\n",
        "    np.asmatrix(clouds_matrix_train), interpolation=\"nearest\", origin=\"upper\", cmap=\"Blues\"\n",
        ")\n",
        "axs[0].set_title(\"Clouds training kernel matrix\")\n",
        "\n",
        "axs[1].imshow(np.asmatrix(clouds_matrix_test), interpolation=\"nearest\", origin=\"upper\", cmap=\"Reds\")\n",
        "axs[1].set_title(\"Clouds testing kernel matrix\")\n",
        "\n",
        "plt.show()"
      ]
    },
    {
      "cell_type": "markdown",
      "metadata": {
        "id": "cdVq6lAJJ4hr"
      },
      "source": [
        "To use these matrices, we set the `kernel` parameter of a new `SVC` instance to `\"precomputed\"`. We train the classifier by calling `fit` with the training matrix and training dataset. Once the model is trained, we evaluate it using the test matrix on the test dataset."
      ]
    },
    {
      "cell_type": "code",
      "execution_count": null,
      "metadata": {
        "id": "RQj_1yZjJ4hr",
        "outputId": "c8eeb947-7586-4bd2-a811-8017f07e9e0a"
      },
      "outputs": [],
      "source": [
        "clouds_svc = SVC(kernel=\"precomputed\")\n",
        "\n",
        "clouds_svc.fit(clouds_matrix_train, y_train)\n",
        "\n",
        "clouds_score_precomputed_kernel = clouds_svc.score(clouds_matrix_test.T, y_test)\n",
        "\n",
        "print(f\"Precomputed kernel classification test score: {clouds_score_precomputed_kernel}\")"
      ]
    },
    {
      "cell_type": "markdown",
      "metadata": {
        "id": "5cc4JeGeJ4hr"
      },
      "source": [
        "### 2.4. Classification with QSVC\n",
        "\n",
        "`QSVC` is an alternative training algorithm provided by `qiskit-machine-learning` for convenience. It is an extension of `SVC` that takes in a quantum kernel instead of the `kernel.evaluate` method shown before."
      ]
    },
    {
      "cell_type": "code",
      "execution_count": null,
      "metadata": {
        "id": "wREvCmH1J4hs",
        "outputId": "4473383d-8c6f-41ff-c2a0-b9386926b5fe"
      },
      "outputs": [],
      "source": [
        "from qiskit_machine_learning.algorithms import QSVC\n",
        "\n",
        "qsvc = QSVC(quantum_kernel=clouds_kernel)\n",
        "\n",
        "qsvc.fit(x_train, y_train)\n",
        "\n",
        "qsvc_score = qsvc.score(x_test, y_test)\n",
        "\n",
        "print(f\"QSVC classification test score: {qsvc_score}\")"
      ]
    },
    {
      "cell_type": "code",
      "execution_count": null,
      "metadata": {},
      "outputs": [],
      "source": [
        "N_gridpoints = 20\n",
        "_xx, _yy = np.meshgrid(np.linspace(0, np.pi, N_gridpoints), np.linspace(0, np.pi, N_gridpoints))\n",
        "\n",
        "_zz = np.zeros_like(_xx)\n",
        "for idx in np.ndindex(*_xx.shape):\n",
        "    _zz[idx] = qsvc.predict(np.array([_xx[idx], _yy[idx]])[np.newaxis, :])[0]\n",
        "\n",
        "plot_data = {\"_xx\": _xx, \"_yy\": _yy, \"_zz\": _zz}\n",
        "plt.contourf(\n",
        "    _xx,\n",
        "    _yy,\n",
        "    _zz,\n",
        "    alpha=0.2,\n",
        "    levels=[-1, 0, 1],\n",
        "    colors=['red','blue']\n",
        ")\n",
        "plt.colorbar()\n",
        "plt.scatter(*(x_train[y_train==-1].T), color='red')\n",
        "plt.scatter(*(x_train[y_train==1].T), color='blue')\n",
        "plt.ylabel('x0')\n",
        "plt.xlabel('x1')"
      ]
    },
    {
      "cell_type": "markdown",
      "metadata": {},
      "source": [
        "### 2.5 Comparison with RBF kernel"
      ]
    },
    {
      "cell_type": "code",
      "execution_count": null,
      "metadata": {},
      "outputs": [],
      "source": [
        "clouds_svc_rbf = SVC(kernel='rbf', gamma='scale')\n",
        "clouds_svc_rbf.fit(x_train, y_train)\n",
        "clouds_score_rbf = clouds_svc_rbf.score(x_test, y_test)\n",
        "\n",
        "N_gridpoints = 20\n",
        "_xx, _yy = np.meshgrid(np.linspace(0, np.pi, N_gridpoints), np.linspace(0, np.pi, N_gridpoints))\n",
        "\n",
        "_zz = np.zeros_like(_xx)\n",
        "for idx in np.ndindex(*_xx.shape):\n",
        "    _zz[idx] = clouds_svc_rbf.predict(np.array([_xx[idx], _yy[idx]])[np.newaxis, :])[0]\n",
        "\n",
        "plot_data = {\"_xx\": _xx, \"_yy\": _yy, \"_zz\": _zz}\n",
        "plt.contourf(\n",
        "    _xx,\n",
        "    _yy,\n",
        "    _zz,\n",
        "    alpha=0.2,\n",
        "    levels=[-1, 0, 1],\n",
        "    colors=['red','blue']\n",
        ")\n",
        "plt.colorbar()\n",
        "plt.scatter(*(x_train[y_train==-1].T), color='red')\n",
        "plt.scatter(*(x_train[y_train==1].T), color='blue')\n",
        "plt.ylabel('x0')\n",
        "plt.xlabel('x1')"
      ]
    },
    {
      "cell_type": "code",
      "execution_count": null,
      "metadata": {
        "id": "d0MsGPtTJ4hs",
        "outputId": "7e9eaafb-66b9-4051-ebcb-578d61f9554b"
      },
      "outputs": [],
      "source": [
        "print(f\"Classification Model                    | Accuracy Score\")\n",
        "print(f\"---------------------------------------------------------\")\n",
        "print(f\"SVC using kernel as a callable function | {clouds_score_callable_function:10.2f}\")\n",
        "print(f\"SVC using precomputed kernel matrix     | {clouds_score_precomputed_kernel:10.2f}\")\n",
        "print(f\"QSVC                                    | {qsvc_score:10.2f}\")\n",
        "print(f\"SVC with RBF kernel                     | {clouds_score_rbf:10.2f}\")"
      ]
    },
    {
      "cell_type": "markdown",
      "metadata": {},
      "source": [
        "### 2.6 Trainable Quantum Kernel\n",
        "\n",
        "The results are not satisfactory with ZZFeatureMap. Let's add a trainable data encoding layer and see what happens."
      ]
    },
    {
      "cell_type": "code",
      "execution_count": null,
      "metadata": {},
      "outputs": [],
      "source": [
        "from qiskit_machine_learning.kernels import TrainableFidelityQuantumKernel\n",
        "\n",
        "theta = ParameterVector('theta', length=x_train.shape[1])\n",
        "\n",
        "feature_map = QuantumCircuit(x_train.shape[1])\n",
        "feature_map.ry(theta[0], 0)\n",
        "feature_map.ry(theta[1], 1)\n",
        "feature_map = feature_map.compose(clouds_feature_map, inplace=False)\n",
        "\n",
        "kernel = TrainableFidelityQuantumKernel(\n",
        "    feature_map=feature_map,\n",
        "    training_parameters=theta\n",
        ")\n",
        "\n",
        "feature_map.decompose().draw('mpl')\n"
      ]
    },
    {
      "cell_type": "code",
      "execution_count": null,
      "metadata": {},
      "outputs": [],
      "source": [
        "from qiskit_machine_learning.kernels.algorithms import QuantumKernelTrainer\n",
        "from qiskit_algorithms.optimizers import SPSA\n",
        "from qiskit_machine_learning.utils.loss_functions import SVCLoss\n",
        "\n",
        "spsa_opt = SPSA(maxiter=10, learning_rate=0.03, perturbation=0.01)\n",
        "loss_func = SVCLoss(C=1.0)\n",
        "qkt = QuantumKernelTrainer(\n",
        "                           quantum_kernel=kernel,\n",
        "                           loss=loss_func,\n",
        "                           optimizer=spsa_opt,\n",
        "                           initial_point = np.full(len(theta), np.pi/2),\n",
        "       )\n"
      ]
    },
    {
      "cell_type": "code",
      "execution_count": null,
      "metadata": {},
      "outputs": [],
      "source": [
        "results = qkt.fit(x_train, y_train)\n",
        "optimized_kernel = results.quantum_kernel"
      ]
    },
    {
      "cell_type": "code",
      "execution_count": null,
      "metadata": {},
      "outputs": [],
      "source": [
        "from qiskit_machine_learning.algorithms import QSVC\n",
        "\n",
        "qsvc = QSVC(quantum_kernel=optimized_kernel)\n",
        "\n",
        "qsvc.fit(x_train, y_train)\n",
        "\n",
        "qsvc_score = qsvc.score(x_test, y_test)\n",
        "\n",
        "print(f\"QSVC with trainable kernel classification test score: {qsvc_score}\")"
      ]
    },
    {
      "cell_type": "code",
      "execution_count": null,
      "metadata": {},
      "outputs": [],
      "source": [
        "N_gridpoints = 20\n",
        "_xx, _yy = np.meshgrid(np.linspace(0, np.pi, N_gridpoints), np.linspace(0, np.pi, N_gridpoints))\n",
        "\n",
        "_zz = np.zeros_like(_xx)\n",
        "for idx in np.ndindex(*_xx.shape):\n",
        "    _zz[idx] = qsvc.predict(np.array([_xx[idx], _yy[idx]])[np.newaxis, :])[0]\n",
        "\n",
        "plot_data = {\"_xx\": _xx, \"_yy\": _yy, \"_zz\": _zz}\n",
        "plt.contourf(\n",
        "    _xx,\n",
        "    _yy,\n",
        "    _zz,\n",
        "    alpha=0.2,\n",
        "    levels=[-1, 0, 1],\n",
        "    colors=['red','blue']\n",
        ")\n",
        "plt.colorbar()\n",
        "plt.scatter(*(x_train[y_train==-1].T), color='red', marker='o', label='x_train, class -1')\n",
        "plt.scatter(*(x_train[y_train==1].T), color='blue', marker='o', label='x_train, class 1')\n",
        "plt.scatter(*(x_test[y_test==-1].T), color='red', marker='x', label='x_test, class -1')\n",
        "plt.scatter(*(x_test[y_test==1].T), color='blue', marker='x', label='x_test, class 1')\n",
        "plt.ylabel('x0')\n",
        "plt.xlabel('x1')"
      ]
    },
    {
      "cell_type": "markdown",
      "metadata": {},
      "source": [
        "## Hybrid Quantum-Classical Neural Network for Satellite Image Classification"
      ]
    },
    {
      "cell_type": "markdown",
      "metadata": {},
      "source": [
        "Adapted from `https://github.com/alessandrosebastianelli/qml4eo_tutorial_qiskit.git`.\n",
        "\n",
        "Please refer to the following articles to get more insight about this topic:\n",
        "\n",
        "[1] Sebastianelli, A., Zaidenberg, D. A., Spiller, D., Le Saux, B., & Ullo, S. L. (2021). On circuit-based hybrid quantum neural networks for remote sensing imagery classification. IEEE Journal of Selected Topics in Applied Earth Observations and Remote Sensing, 15, 565-580.\n",
        "[2] Zaidenberg, D. A., Sebastianelli, A., Spiller, D., Le Saux, B., & Ullo, S. L. (2021, July). Advantages and bottlenecks of quantum machine learning for remote sensing. In 2021 IEEE International Geoscience and Remote Sensing Symposium IGARSS (pp. 5680-5683). IEEE.\n",
        "[3] Eurosat: A novel dataset and deep learning benchmark for land use and land cover classification. Patrick Helber, Benjamin Bischke, Andreas Dengel, Damian Borth. IEEE Journal of Selected Topics in Applied Earth Observations and Remote Sensing, 2019.\n",
        "[4] Introducing EuroSAT: A Novel Dataset and Deep Learning Benchmark for Land Use and Land Cover Classification. Patrick Helber, Benjamin Bischke, Andreas Dengel. 2018 IEEE International Geoscience and Remote Sensing Symposium, 2018.\n"
      ]
    },
    {
      "cell_type": "code",
      "execution_count": null,
      "metadata": {},
      "outputs": [],
      "source": [
        "os.chdir('qml4eo_tutorial_qiskit')\n",
        "\n",
        "from hybrid_model import *\n",
        "from torch_loader import EuroSATDataModule\n",
        "\n",
        "torch.multiprocessing.set_start_method('spawn')  \n",
        "torch.set_float32_matmul_precision('high')"
      ]
    },
    {
      "cell_type": "markdown",
      "metadata": {},
      "source": [
        "### Download the dataset\n",
        "\n",
        "In this study, we address the challenge of land use and land cover classification using Sentinel-2 satellite images. The Sentinel-2 satellite images are openly and freely accessible provided in the Earth observation program Copernicus. We present a novel dataset based on Sentinel-2 satellite images covering 13 spectral bands and consisting out of 10 classes with in total 27,000 labeled and geo-referenced images. We provide benchmarks for this novel dataset with its spectral bands using state-of-the-art deep Convolutional Neural Network (CNNs). With the proposed novel dataset, we achieved an overall classification accuracy of 98.57%. The resulting classification system opens a gate towards a number of Earth observation applications. We demonstrate how this classification system can be used for detecting land use and land cover changes and how it can assist in improving geographical maps.\n",
        "\n",
        "Get more information [here](https://github.com/phelber/EuroSAT).\n",
        "\n",
        "![](https://github.com/phelber/EuroSAT/blob/master/eurosat_overview_small.jpg?raw=true)"
      ]
    },
    {
      "cell_type": "markdown",
      "metadata": {},
      "source": [
        "The following snippet will download the EuroSAT dataset and split it in train/validation/test sub-datasets."
      ]
    },
    {
      "cell_type": "code",
      "execution_count": null,
      "metadata": {},
      "outputs": [],
      "source": [
        "!bash download_data.sh"
      ]
    },
    {
      "cell_type": "markdown",
      "metadata": {},
      "source": [
        "### Load data"
      ]
    },
    {
      "cell_type": "code",
      "execution_count": null,
      "metadata": {},
      "outputs": [],
      "source": [
        "\n",
        "# This is the full list of classes in EuroSAT\n",
        "classes = ['AnnualCrop', 'Forest', 'HerbaceousVegetation', 'Highway', 'Industrial', 'Pasture','PermanentCrop', 'Residential', 'River', 'SeaLake']\n",
        "\n",
        "# For simplicity we will reduce them to 2\n",
        "classes = ['Forest', 'Highway']\n",
        "\n",
        "# Torch lightning data loader module\n",
        "data_module = EuroSATDataModule(\n",
        "        whitelist_classes = classes, # Here we are selecting the classes to be classified\n",
        "        root_dir          = '/',      \n",
        "        batch_size        = 16, \n",
        "        bands             = [3,2,1], # Here we are selecting only the RGB bands\n",
        "        num_workers       = 4,\n",
        ")\n",
        "     "
      ]
    },
    {
      "cell_type": "markdown",
      "metadata": {},
      "source": [
        "### Plot some data"
      ]
    },
    {
      "cell_type": "code",
      "execution_count": null,
      "metadata": {},
      "outputs": [],
      "source": [
        "data_module.setup()\n",
        "loader = data_module.train_dataloader()\n",
        "x, y = next(iter(loader))\n",
        "\n",
        "fig, axes = plt.subplots(nrows=4, ncols=4)\n",
        "axes = axes.flatten()\n",
        "\n",
        "\n",
        "if 'cpu' in str(x.device): x = x.numpy()\n",
        "else: x = x.cpu().detach().numpy()\n",
        "x = np.moveaxis(x, 1, -1)\n",
        "\n",
        "\n",
        "for i, ax in enumerate(axes):\n",
        "    ax.imshow(x[i,...])\n",
        "    ax.axis(False)\n",
        "\n",
        "fig.tight_layout()\n",
        "plt.show()"
      ]
    },
    {
      "cell_type": "markdown",
      "metadata": {},
      "source": [
        "### Run Hybrid model"
      ]
    },
    {
      "cell_type": "markdown",
      "metadata": {},
      "source": [
        "\n",
        "The method proposed in [1] introduces a hybrid quantum-classical convolutional neural network (QCNN) designed for remote sensing image classification, specifically applied to land-use and land-cover (LULC) classification using the EuroSAT dataset.\n",
        "\n",
        "The architecture integrates a quantum circuit layer into a classical CNN (based on a modified LeNet-5), with quantum layers implemented using different types of gate-based circuits, including both entangled and non-entangled designs. Classical data are first embedded into quantum states via unitary transformations, enabling the quantum circuit to process them through parametrized gates.\n",
        "\n",
        "With respect to [1], here we are going to use a more \"complex\" classical deep learning network."
      ]
    },
    {
      "cell_type": "code",
      "execution_count": null,
      "metadata": {},
      "outputs": [],
      "source": [
        "\n",
        "number_of_qubits = 2 # Feel free to \"play\" with this parameter\n",
        "network = LightningAlexNetModule(n_qubits=number_of_qubits, num_classes=len(classes))\n",
        "log_name  = 'hybrid_model'\n",
        "\n",
        "# will log some relevant information about training/validation/testing of the model\n",
        "tb_logger = pl.loggers.TensorBoardLogger(os.path.join('lightning_logs','classifiers'), name=log_name)\n",
        "\n",
        "# will save models weights\n",
        "checkpoint_callback = ModelCheckpoint(\n",
        "    dirpath         = os.path.join('saved_models','classifiers'),\n",
        "    filename        = log_name,\n",
        "    monitor         = 'val_loss',\n",
        "    save_top_k      = 1,\n",
        "    mode            = 'min',\n",
        ")\n",
        "\n",
        "# Instantiate Trainer\n",
        "trainer = pl.Trainer(max_epochs=30, callbacks=[checkpoint_callback], logger=tb_logger)\n",
        "\n",
        "# Train the model\n",
        "trainer.fit(network, data_module)"
      ]
    }
  ],
  "metadata": {
    "celltoolbar": "Tags",
    "colab": {
      "provenance": []
    },
    "kernelspec": {
      "display_name": ".qiskit_venv",
      "language": "python",
      "name": "python3"
    },
    "language_info": {
      "codemirror_mode": {
        "name": "ipython",
        "version": 3
      },
      "file_extension": ".py",
      "mimetype": "text/x-python",
      "name": "python",
      "nbconvert_exporter": "python",
      "pygments_lexer": "ipython3",
      "version": "3.9.12"
    }
  },
  "nbformat": 4,
  "nbformat_minor": 0
}
